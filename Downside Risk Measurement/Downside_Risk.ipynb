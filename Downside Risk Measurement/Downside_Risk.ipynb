{
 "cells": [
  {
   "cell_type": "code",
   "execution_count": 3,
   "id": "712d7716",
   "metadata": {},
   "outputs": [
    {
     "name": "stdout",
     "output_type": "stream",
     "text": [
      "[*********************100%***********************]  1 of 1 completed\n"
     ]
    }
   ],
   "source": [
    "import pandas as pd\n",
    "import numpy as np\n",
    "import matplotlib.pyplot as plt\n",
    "from scipy.stats import norm\n",
    "from tabulate import tabulate\n",
    "import yfinance as yf\n",
    "%matplotlib inline\n",
    "\n",
    "ticker= \"tsla\"\n",
    "stock_data = yf.download(ticker, start=\"2016-01-04\", end=\"2022-10-26\")"
   ]
  },
  {
   "cell_type": "code",
   "execution_count": 4,
   "id": "d5390dc4",
   "metadata": {},
   "outputs": [
    {
     "data": {
      "text/html": [
       "<div>\n",
       "<style scoped>\n",
       "    .dataframe tbody tr th:only-of-type {\n",
       "        vertical-align: middle;\n",
       "    }\n",
       "\n",
       "    .dataframe tbody tr th {\n",
       "        vertical-align: top;\n",
       "    }\n",
       "\n",
       "    .dataframe thead th {\n",
       "        text-align: right;\n",
       "    }\n",
       "</style>\n",
       "<table border=\"1\" class=\"dataframe\">\n",
       "  <thead>\n",
       "    <tr style=\"text-align: right;\">\n",
       "      <th></th>\n",
       "      <th>Open</th>\n",
       "      <th>High</th>\n",
       "      <th>Low</th>\n",
       "      <th>Close</th>\n",
       "      <th>Adj Close</th>\n",
       "      <th>Volume</th>\n",
       "    </tr>\n",
       "    <tr>\n",
       "      <th>Date</th>\n",
       "      <th></th>\n",
       "      <th></th>\n",
       "      <th></th>\n",
       "      <th></th>\n",
       "      <th></th>\n",
       "      <th></th>\n",
       "    </tr>\n",
       "  </thead>\n",
       "  <tbody>\n",
       "    <tr>\n",
       "      <th>2016-01-04</th>\n",
       "      <td>15.381333</td>\n",
       "      <td>15.425333</td>\n",
       "      <td>14.600000</td>\n",
       "      <td>14.894000</td>\n",
       "      <td>14.894000</td>\n",
       "      <td>102406500</td>\n",
       "    </tr>\n",
       "    <tr>\n",
       "      <th>2016-01-05</th>\n",
       "      <td>15.090667</td>\n",
       "      <td>15.126000</td>\n",
       "      <td>14.666667</td>\n",
       "      <td>14.895333</td>\n",
       "      <td>14.895333</td>\n",
       "      <td>47802000</td>\n",
       "    </tr>\n",
       "    <tr>\n",
       "      <th>2016-01-06</th>\n",
       "      <td>14.666667</td>\n",
       "      <td>14.670000</td>\n",
       "      <td>14.398667</td>\n",
       "      <td>14.602667</td>\n",
       "      <td>14.602667</td>\n",
       "      <td>56686500</td>\n",
       "    </tr>\n",
       "    <tr>\n",
       "      <th>2016-01-07</th>\n",
       "      <td>14.279333</td>\n",
       "      <td>14.562667</td>\n",
       "      <td>14.244667</td>\n",
       "      <td>14.376667</td>\n",
       "      <td>14.376667</td>\n",
       "      <td>53314500</td>\n",
       "    </tr>\n",
       "    <tr>\n",
       "      <th>2016-01-08</th>\n",
       "      <td>14.524000</td>\n",
       "      <td>14.696000</td>\n",
       "      <td>14.051333</td>\n",
       "      <td>14.066667</td>\n",
       "      <td>14.066667</td>\n",
       "      <td>54421500</td>\n",
       "    </tr>\n",
       "  </tbody>\n",
       "</table>\n",
       "</div>"
      ],
      "text/plain": [
       "                 Open       High        Low      Close  Adj Close     Volume\n",
       "Date                                                                        \n",
       "2016-01-04  15.381333  15.425333  14.600000  14.894000  14.894000  102406500\n",
       "2016-01-05  15.090667  15.126000  14.666667  14.895333  14.895333   47802000\n",
       "2016-01-06  14.666667  14.670000  14.398667  14.602667  14.602667   56686500\n",
       "2016-01-07  14.279333  14.562667  14.244667  14.376667  14.376667   53314500\n",
       "2016-01-08  14.524000  14.696000  14.051333  14.066667  14.066667   54421500"
      ]
     },
     "execution_count": 4,
     "metadata": {},
     "output_type": "execute_result"
    }
   ],
   "source": [
    "stock_data.head()"
   ]
  },
  {
   "cell_type": "code",
   "execution_count": 5,
   "id": "50754364",
   "metadata": {},
   "outputs": [
    {
     "data": {
      "text/plain": [
       "<AxesSubplot:xlabel='Date'>"
      ]
     },
     "execution_count": 5,
     "metadata": {},
     "output_type": "execute_result"
    },
    {
     "data": {
      "image/png": "[encoded data removed]",
      "text/plain": [
       "<Figure size 432x288 with 1 Axes>"
      ]
     },
     "metadata": {
      "needs_background": "light"
     },
     "output_type": "display_data"
    }
   ],
   "source": [
    "daily_close_pct_change = stock_data['Adj Close'].pct_change()\n",
    "wealth_index = 1000 * (1 + daily_close_pct_change).cumprod()\n",
    "previous_peaks = wealth_index.cummax()\n",
    "drawdown = (wealth_index - previous_peaks) / previous_peaks\n",
    "drawdown.plot()"
   ]
  },
  {
   "cell_type": "code",
   "execution_count": 6,
   "id": "8ef5d213",
   "metadata": {},
   "outputs": [
    {
     "name": "stdout",
     "output_type": "stream",
     "text": [
      "Confidence Level      Value at Risk\n",
      "------------------  ---------------\n",
      "90%                      -0.0361466\n",
      "95%                      -0.0523259\n",
      "99%                      -0.0906607\n"
     ]
    }
   ],
   "source": [
    "daily_close_pct_change.sort_values(inplace=True, ascending=True)\n",
    "\n",
    "VaR_90 = daily_close_pct_change.quantile(0.1)\n",
    "VaR_95 = daily_close_pct_change.quantile(0.05)\n",
    "VaR_99 = daily_close_pct_change.quantile(0.01)\n",
    "\n",
    "print(tabulate([['90%', VaR_90], ['95%', VaR_95], ['99%', VaR_99]], headers=['Confidence Level', 'Value at Risk']))"
   ]
  },
  {
   "cell_type": "code",
   "execution_count": 7,
   "id": "9bbcec83",
   "metadata": {},
   "outputs": [
    {
     "name": "stdout",
     "output_type": "stream",
     "text": [
      "Confidence Level      Conditional Value at Risk (Expected Loss)\n",
      "------------------  -------------------------------------------\n",
      "90%                                                  -0.0629948\n",
      "95%                                                  -0.0821725\n",
      "99%                                                  -0.131365\n"
     ]
    }
   ],
   "source": [
    "CVaR_90 = daily_close_pct_change[daily_close_pct_change <= VaR_90].mean()\n",
    "CVaR_95 = daily_close_pct_change[daily_close_pct_change <= VaR_95].mean()\n",
    "CVaR_99 = daily_close_pct_change[daily_close_pct_change <= VaR_99].mean()\n",
    "\n",
    "print(tabulate([['90%', CVaR_90], ['95%', CVaR_95], ['99%', CVaR_99]], headers=['Confidence Level', 'Conditional Value at Risk (Expected Loss)']))"
   ]
  }
 ],
 "metadata": {
  "kernelspec": {
   "display_name": "Python 3.7.7 ('dev')",
   "language": "python",
   "name": "python3"
  },
  "language_info": {
   "codemirror_mode": {
    "name": "ipython",
    "version": 3
   },
   "file_extension": ".py",
   "mimetype": "text/x-python",
   "name": "python",
   "nbconvert_exporter": "python",
   "pygments_lexer": "ipython3",
   "version": "3.7.7"
  },
  "vscode": {
   "interpreter": {
    "hash": "4396f389b93e7269692bd3bea4c62813bbe379469bde939b058805f538feec11"
   }
  }
 },
 "nbformat": 4,
 "nbformat_minor": 5
}
