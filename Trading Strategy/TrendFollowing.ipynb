{
 "cells": [
  {
   "cell_type": "code",
   "execution_count": 1,
   "id": "8200d6b7-c763-492e-9592-3933c1b59072",
   "metadata": {},
   "outputs": [
    {
     "name": "stdout",
     "output_type": "stream",
     "text": [
      "[*********************100%***********************]  1 of 1 completed\n"
     ]
    },
    {
     "data": {
      "text/html": [
       "<div>\n",
       "<style scoped>\n",
       "    .dataframe tbody tr th:only-of-type {\n",
       "        vertical-align: middle;\n",
       "    }\n",
       "\n",
       "    .dataframe tbody tr th {\n",
       "        vertical-align: top;\n",
       "    }\n",
       "\n",
       "    .dataframe thead th {\n",
       "        text-align: right;\n",
       "    }\n",
       "</style>\n",
       "<table border=\"1\" class=\"dataframe\">\n",
       "  <thead>\n",
       "    <tr style=\"text-align: right;\">\n",
       "      <th></th>\n",
       "      <th>Open</th>\n",
       "      <th>High</th>\n",
       "      <th>Low</th>\n",
       "      <th>Close</th>\n",
       "      <th>Adj Close</th>\n",
       "      <th>Volume</th>\n",
       "    </tr>\n",
       "    <tr>\n",
       "      <th>Date</th>\n",
       "      <th></th>\n",
       "      <th></th>\n",
       "      <th></th>\n",
       "      <th></th>\n",
       "      <th></th>\n",
       "      <th></th>\n",
       "    </tr>\n",
       "  </thead>\n",
       "  <tbody>\n",
       "    <tr>\n",
       "      <th>2021-01-04</th>\n",
       "      <td>88.000000</td>\n",
       "      <td>88.124496</td>\n",
       "      <td>85.357002</td>\n",
       "      <td>86.306503</td>\n",
       "      <td>86.306503</td>\n",
       "      <td>37324000</td>\n",
       "    </tr>\n",
       "    <tr>\n",
       "      <th>2021-01-05</th>\n",
       "      <td>86.254501</td>\n",
       "      <td>87.341499</td>\n",
       "      <td>85.845001</td>\n",
       "      <td>87.002502</td>\n",
       "      <td>87.002502</td>\n",
       "      <td>20360000</td>\n",
       "    </tr>\n",
       "    <tr>\n",
       "      <th>2021-01-06</th>\n",
       "      <td>85.013000</td>\n",
       "      <td>87.198502</td>\n",
       "      <td>84.805000</td>\n",
       "      <td>86.143997</td>\n",
       "      <td>86.143997</td>\n",
       "      <td>46588000</td>\n",
       "    </tr>\n",
       "    <tr>\n",
       "      <th>2021-01-07</th>\n",
       "      <td>86.337997</td>\n",
       "      <td>88.890999</td>\n",
       "      <td>86.337997</td>\n",
       "      <td>88.717003</td>\n",
       "      <td>88.717003</td>\n",
       "      <td>41936000</td>\n",
       "    </tr>\n",
       "    <tr>\n",
       "      <th>2021-01-08</th>\n",
       "      <td>88.858002</td>\n",
       "      <td>89.968002</td>\n",
       "      <td>88.060997</td>\n",
       "      <td>89.891502</td>\n",
       "      <td>89.891502</td>\n",
       "      <td>35484000</td>\n",
       "    </tr>\n",
       "  </tbody>\n",
       "</table>\n",
       "</div>"
      ],
      "text/plain": [
       "                 Open       High        Low      Close  Adj Close    Volume\n",
       "Date                                                                       \n",
       "2021-01-04  88.000000  88.124496  85.357002  86.306503  86.306503  37324000\n",
       "2021-01-05  86.254501  87.341499  85.845001  87.002502  87.002502  20360000\n",
       "2021-01-06  85.013000  87.198502  84.805000  86.143997  86.143997  46588000\n",
       "2021-01-07  86.337997  88.890999  86.337997  88.717003  88.717003  41936000\n",
       "2021-01-08  88.858002  89.968002  88.060997  89.891502  89.891502  35484000"
      ]
     },
     "execution_count": 1,
     "metadata": {},
     "output_type": "execute_result"
    }
   ],
   "source": [
    "import numpy as np\n",
    "import pandas as pd\n",
    "import matplotlib.pyplot as plt\n",
    "import yfinance as yf\n",
    "pd.set_option('mode.chained_assignment', None)\n",
    "\n",
    "ticker = \"GOOGL\"\n",
    "df = yf.download(ticker, start=\"2021-01-02\", end=\"2022-10-26\")\n",
    "df.head()"
   ]
  },
  {
   "cell_type": "code",
   "execution_count": 2,
   "id": "279e1c3f-213d-4060-b615-9768065ff198",
   "metadata": {},
   "outputs": [
    {
     "data": {
      "text/html": [
       "<div>\n",
       "<style scoped>\n",
       "    .dataframe tbody tr th:only-of-type {\n",
       "        vertical-align: middle;\n",
       "    }\n",
       "\n",
       "    .dataframe tbody tr th {\n",
       "        vertical-align: top;\n",
       "    }\n",
       "\n",
       "    .dataframe thead th {\n",
       "        text-align: right;\n",
       "    }\n",
       "</style>\n",
       "<table border=\"1\" class=\"dataframe\">\n",
       "  <thead>\n",
       "    <tr style=\"text-align: right;\">\n",
       "      <th></th>\n",
       "      <th>Open</th>\n",
       "      <th>High</th>\n",
       "      <th>Low</th>\n",
       "      <th>Close</th>\n",
       "      <th>Adj Close</th>\n",
       "      <th>Volume</th>\n",
       "      <th>MA10</th>\n",
       "      <th>MA50</th>\n",
       "    </tr>\n",
       "    <tr>\n",
       "      <th>Date</th>\n",
       "      <th></th>\n",
       "      <th></th>\n",
       "      <th></th>\n",
       "      <th></th>\n",
       "      <th></th>\n",
       "      <th></th>\n",
       "      <th></th>\n",
       "      <th></th>\n",
       "    </tr>\n",
       "  </thead>\n",
       "  <tbody>\n",
       "    <tr>\n",
       "      <th>2021-03-16</th>\n",
       "      <td>103.299500</td>\n",
       "      <td>105.683998</td>\n",
       "      <td>102.964500</td>\n",
       "      <td>104.194504</td>\n",
       "      <td>104.194504</td>\n",
       "      <td>31900000</td>\n",
       "      <td>102.576651</td>\n",
       "      <td>97.95688</td>\n",
       "    </tr>\n",
       "    <tr>\n",
       "      <th>2021-03-17</th>\n",
       "      <td>103.423500</td>\n",
       "      <td>104.949997</td>\n",
       "      <td>102.206001</td>\n",
       "      <td>104.111000</td>\n",
       "      <td>104.111000</td>\n",
       "      <td>26382000</td>\n",
       "      <td>102.930701</td>\n",
       "      <td>98.31297</td>\n",
       "    </tr>\n",
       "    <tr>\n",
       "      <th>2021-03-18</th>\n",
       "      <td>102.408997</td>\n",
       "      <td>103.437500</td>\n",
       "      <td>100.959000</td>\n",
       "      <td>101.067001</td>\n",
       "      <td>101.067001</td>\n",
       "      <td>31700000</td>\n",
       "      <td>102.867751</td>\n",
       "      <td>98.59426</td>\n",
       "    </tr>\n",
       "    <tr>\n",
       "      <th>2021-03-19</th>\n",
       "      <td>101.486504</td>\n",
       "      <td>101.851997</td>\n",
       "      <td>100.146500</td>\n",
       "      <td>101.348000</td>\n",
       "      <td>101.348000</td>\n",
       "      <td>46072000</td>\n",
       "      <td>102.517200</td>\n",
       "      <td>98.89834</td>\n",
       "    </tr>\n",
       "    <tr>\n",
       "      <th>2021-03-22</th>\n",
       "      <td>101.381500</td>\n",
       "      <td>102.417000</td>\n",
       "      <td>100.699997</td>\n",
       "      <td>101.534500</td>\n",
       "      <td>101.534500</td>\n",
       "      <td>33536000</td>\n",
       "      <td>102.633150</td>\n",
       "      <td>99.15469</td>\n",
       "    </tr>\n",
       "  </tbody>\n",
       "</table>\n",
       "</div>"
      ],
      "text/plain": [
       "                  Open        High         Low       Close   Adj Close  \\\n",
       "Date                                                                     \n",
       "2021-03-16  103.299500  105.683998  102.964500  104.194504  104.194504   \n",
       "2021-03-17  103.423500  104.949997  102.206001  104.111000  104.111000   \n",
       "2021-03-18  102.408997  103.437500  100.959000  101.067001  101.067001   \n",
       "2021-03-19  101.486504  101.851997  100.146500  101.348000  101.348000   \n",
       "2021-03-22  101.381500  102.417000  100.699997  101.534500  101.534500   \n",
       "\n",
       "              Volume        MA10      MA50  \n",
       "Date                                        \n",
       "2021-03-16  31900000  102.576651  97.95688  \n",
       "2021-03-17  26382000  102.930701  98.31297  \n",
       "2021-03-18  31700000  102.867751  98.59426  \n",
       "2021-03-19  46072000  102.517200  98.89834  \n",
       "2021-03-22  33536000  102.633150  99.15469  "
      ]
     },
     "execution_count": 2,
     "metadata": {},
     "output_type": "execute_result"
    }
   ],
   "source": [
    "df['MA10'] = df['Close'].rolling(10).mean()\n",
    "df['MA50'] = df['Close'].rolling(50).mean()\n",
    "df = df.dropna()\n",
    "df.head()"
   ]
  },
  {
   "cell_type": "code",
   "execution_count": 3,
   "id": "b5e5ad93-e0d3-4ecd-be65-82f9e613e054",
   "metadata": {},
   "outputs": [
    {
     "data": {
      "text/html": [
       "<div>\n",
       "<style scoped>\n",
       "    .dataframe tbody tr th:only-of-type {\n",
       "        vertical-align: middle;\n",
       "    }\n",
       "\n",
       "    .dataframe tbody tr th {\n",
       "        vertical-align: top;\n",
       "    }\n",
       "\n",
       "    .dataframe thead th {\n",
       "        text-align: right;\n",
       "    }\n",
       "</style>\n",
       "<table border=\"1\" class=\"dataframe\">\n",
       "  <thead>\n",
       "    <tr style=\"text-align: right;\">\n",
       "      <th></th>\n",
       "      <th>Open</th>\n",
       "      <th>High</th>\n",
       "      <th>Low</th>\n",
       "      <th>Close</th>\n",
       "      <th>Adj Close</th>\n",
       "      <th>Volume</th>\n",
       "      <th>MA10</th>\n",
       "      <th>MA50</th>\n",
       "      <th>Position</th>\n",
       "    </tr>\n",
       "    <tr>\n",
       "      <th>Date</th>\n",
       "      <th></th>\n",
       "      <th></th>\n",
       "      <th></th>\n",
       "      <th></th>\n",
       "      <th></th>\n",
       "      <th></th>\n",
       "      <th></th>\n",
       "      <th></th>\n",
       "      <th></th>\n",
       "    </tr>\n",
       "  </thead>\n",
       "  <tbody>\n",
       "    <tr>\n",
       "      <th>2021-03-16</th>\n",
       "      <td>103.299500</td>\n",
       "      <td>105.683998</td>\n",
       "      <td>102.964500</td>\n",
       "      <td>104.194504</td>\n",
       "      <td>104.194504</td>\n",
       "      <td>31900000</td>\n",
       "      <td>102.576651</td>\n",
       "      <td>97.95688</td>\n",
       "      <td>1</td>\n",
       "    </tr>\n",
       "    <tr>\n",
       "      <th>2021-03-17</th>\n",
       "      <td>103.423500</td>\n",
       "      <td>104.949997</td>\n",
       "      <td>102.206001</td>\n",
       "      <td>104.111000</td>\n",
       "      <td>104.111000</td>\n",
       "      <td>26382000</td>\n",
       "      <td>102.930701</td>\n",
       "      <td>98.31297</td>\n",
       "      <td>1</td>\n",
       "    </tr>\n",
       "    <tr>\n",
       "      <th>2021-03-18</th>\n",
       "      <td>102.408997</td>\n",
       "      <td>103.437500</td>\n",
       "      <td>100.959000</td>\n",
       "      <td>101.067001</td>\n",
       "      <td>101.067001</td>\n",
       "      <td>31700000</td>\n",
       "      <td>102.867751</td>\n",
       "      <td>98.59426</td>\n",
       "      <td>1</td>\n",
       "    </tr>\n",
       "    <tr>\n",
       "      <th>2021-03-19</th>\n",
       "      <td>101.486504</td>\n",
       "      <td>101.851997</td>\n",
       "      <td>100.146500</td>\n",
       "      <td>101.348000</td>\n",
       "      <td>101.348000</td>\n",
       "      <td>46072000</td>\n",
       "      <td>102.517200</td>\n",
       "      <td>98.89834</td>\n",
       "      <td>1</td>\n",
       "    </tr>\n",
       "    <tr>\n",
       "      <th>2021-03-22</th>\n",
       "      <td>101.381500</td>\n",
       "      <td>102.417000</td>\n",
       "      <td>100.699997</td>\n",
       "      <td>101.534500</td>\n",
       "      <td>101.534500</td>\n",
       "      <td>33536000</td>\n",
       "      <td>102.633150</td>\n",
       "      <td>99.15469</td>\n",
       "      <td>1</td>\n",
       "    </tr>\n",
       "  </tbody>\n",
       "</table>\n",
       "</div>"
      ],
      "text/plain": [
       "                  Open        High         Low       Close   Adj Close  \\\n",
       "Date                                                                     \n",
       "2021-03-16  103.299500  105.683998  102.964500  104.194504  104.194504   \n",
       "2021-03-17  103.423500  104.949997  102.206001  104.111000  104.111000   \n",
       "2021-03-18  102.408997  103.437500  100.959000  101.067001  101.067001   \n",
       "2021-03-19  101.486504  101.851997  100.146500  101.348000  101.348000   \n",
       "2021-03-22  101.381500  102.417000  100.699997  101.534500  101.534500   \n",
       "\n",
       "              Volume        MA10      MA50  Position  \n",
       "Date                                                  \n",
       "2021-03-16  31900000  102.576651  97.95688         1  \n",
       "2021-03-17  26382000  102.930701  98.31297         1  \n",
       "2021-03-18  31700000  102.867751  98.59426         1  \n",
       "2021-03-19  46072000  102.517200  98.89834         1  \n",
       "2021-03-22  33536000  102.633150  99.15469         1  "
      ]
     },
     "execution_count": 3,
     "metadata": {},
     "output_type": "execute_result"
    }
   ],
   "source": [
    "conditions = [df['MA10'] > df['MA50'], \n",
    "              df['MA10'] < df['MA50']]\n",
    "\n",
    "#define choices\n",
    "choices = [1, 0]\n",
    "\n",
    "#create new column in DataFrame that displays results of comparisons\n",
    "df['Position']= np.select(conditions, choices)\n",
    "df.head()"
   ]
  },
  {
   "cell_type": "code",
   "execution_count": 4,
   "id": "bbf4dd48-ce2b-4025-99a4-c9d499abba73",
   "metadata": {},
   "outputs": [
    {
     "data": {
      "text/plain": [
       "<matplotlib.lines.Line2D at 0x7ff14a0fe5d0>"
      ]
     },
     "execution_count": 4,
     "metadata": {},
     "output_type": "execute_result"
    },
    {
     "data": {
      "image/png": "[encoded data removed]",
      "text/plain": [
       "<Figure size 432x288 with 1 Axes>"
      ]
     },
     "metadata": {
      "needs_background": "light"
     },
     "output_type": "display_data"
    }
   ],
   "source": [
    "df['Close_Next'] = df['Close'].shift(-1)\n",
    "df['Profit'] = [df.loc[i, 'Close_Next'] - df.loc[i, 'Close'] if df.loc[i, 'Position']==1 else 0 for i in df.index]\n",
    "df['Profit'].plot()\n",
    "plt.axhline(y=0, color='red')"
   ]
  },
  {
   "cell_type": "code",
   "execution_count": 5,
   "id": "fe5aefa1-1f56-4e5b-b833-be8ea45a42fe",
   "metadata": {},
   "outputs": [
    {
     "data": {
      "text/plain": [
       "<AxesSubplot:xlabel='Date'>"
      ]
     },
     "execution_count": 5,
     "metadata": {},
     "output_type": "execute_result"
    },
    {
     "data": {
      "image/png": "[encoded data removed]",
      "text/plain": [
       "<Figure size 432x288 with 1 Axes>"
      ]
     },
     "metadata": {
      "needs_background": "light"
     },
     "output_type": "display_data"
    }
   ],
   "source": [
    "df['Cum_Profit'] = df['Profit'].cumsum()\n",
    "df['Cum_Profit'].plot()"
   ]
  }
 ],
 "metadata": {
  "kernelspec": {
   "display_name": "Python 3.7.7 ('dev')",
   "language": "python",
   "name": "python3"
  },
  "language_info": {
   "codemirror_mode": {
    "name": "ipython",
    "version": 3
   },
   "file_extension": ".py",
   "mimetype": "text/x-python",
   "name": "python",
   "nbconvert_exporter": "python",
   "pygments_lexer": "ipython3",
   "version": "3.7.7"
  },
  "vscode": {
   "interpreter": {
    "hash": "4396f389b93e7269692bd3bea4c62813bbe379469bde939b058805f538feec11"
   }
  }
 },
 "nbformat": 4,
 "nbformat_minor": 5
}
