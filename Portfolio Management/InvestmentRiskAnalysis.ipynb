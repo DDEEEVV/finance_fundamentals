{
 "cells": [
  {
   "cell_type": "code",
   "execution_count": 1,
   "id": "f7a1504c",
   "metadata": {},
   "outputs": [
    {
     "name": "stdout",
     "output_type": "stream",
     "text": [
      "[*********************100%***********************]  1 of 1 completed\n"
     ]
    }
   ],
   "source": [
    "import pandas as pd\n",
    "import numpy as np\n",
    "from scipy.stats import skew\n",
    "from scipy.stats import kurtosis\n",
    "from scipy.stats import shapiro\n",
    "import yfinance as yf\n",
    "import matplotlib.pyplot as plt\n",
    "from matplotlib import pyplot\n",
    "%matplotlib inline\n",
    "\n",
    "ticker= \"msft\"\n",
    "stock_data = yf.download(ticker, start=\"2016-01-04\", end=\"2022-10-26\")"
   ]
  },
  {
   "cell_type": "code",
   "execution_count": 2,
   "id": "63634ed7",
   "metadata": {},
   "outputs": [
    {
     "data": {
      "text/html": [
       "<div>\n",
       "<style scoped>\n",
       "    .dataframe tbody tr th:only-of-type {\n",
       "        vertical-align: middle;\n",
       "    }\n",
       "\n",
       "    .dataframe tbody tr th {\n",
       "        vertical-align: top;\n",
       "    }\n",
       "\n",
       "    .dataframe thead th {\n",
       "        text-align: right;\n",
       "    }\n",
       "</style>\n",
       "<table border=\"1\" class=\"dataframe\">\n",
       "  <thead>\n",
       "    <tr style=\"text-align: right;\">\n",
       "      <th></th>\n",
       "      <th>Open</th>\n",
       "      <th>High</th>\n",
       "      <th>Low</th>\n",
       "      <th>Close</th>\n",
       "      <th>Adj Close</th>\n",
       "      <th>Volume</th>\n",
       "    </tr>\n",
       "    <tr>\n",
       "      <th>Date</th>\n",
       "      <th></th>\n",
       "      <th></th>\n",
       "      <th></th>\n",
       "      <th></th>\n",
       "      <th></th>\n",
       "      <th></th>\n",
       "    </tr>\n",
       "  </thead>\n",
       "  <tbody>\n",
       "    <tr>\n",
       "      <th>2016-01-04</th>\n",
       "      <td>54.320000</td>\n",
       "      <td>54.799999</td>\n",
       "      <td>53.389999</td>\n",
       "      <td>54.799999</td>\n",
       "      <td>49.269142</td>\n",
       "      <td>53778000</td>\n",
       "    </tr>\n",
       "    <tr>\n",
       "      <th>2016-01-05</th>\n",
       "      <td>54.930000</td>\n",
       "      <td>55.389999</td>\n",
       "      <td>54.540001</td>\n",
       "      <td>55.049999</td>\n",
       "      <td>49.493923</td>\n",
       "      <td>34079700</td>\n",
       "    </tr>\n",
       "    <tr>\n",
       "      <th>2016-01-06</th>\n",
       "      <td>54.320000</td>\n",
       "      <td>54.400002</td>\n",
       "      <td>53.639999</td>\n",
       "      <td>54.049999</td>\n",
       "      <td>48.594845</td>\n",
       "      <td>39518900</td>\n",
       "    </tr>\n",
       "    <tr>\n",
       "      <th>2016-01-07</th>\n",
       "      <td>52.700001</td>\n",
       "      <td>53.490002</td>\n",
       "      <td>52.070000</td>\n",
       "      <td>52.169998</td>\n",
       "      <td>46.904587</td>\n",
       "      <td>56564900</td>\n",
       "    </tr>\n",
       "    <tr>\n",
       "      <th>2016-01-08</th>\n",
       "      <td>52.369999</td>\n",
       "      <td>53.279999</td>\n",
       "      <td>52.150002</td>\n",
       "      <td>52.330002</td>\n",
       "      <td>47.048447</td>\n",
       "      <td>48754000</td>\n",
       "    </tr>\n",
       "  </tbody>\n",
       "</table>\n",
       "</div>"
      ],
      "text/plain": [
       "                 Open       High        Low      Close  Adj Close    Volume\n",
       "Date                                                                       \n",
       "2016-01-04  54.320000  54.799999  53.389999  54.799999  49.269142  53778000\n",
       "2016-01-05  54.930000  55.389999  54.540001  55.049999  49.493923  34079700\n",
       "2016-01-06  54.320000  54.400002  53.639999  54.049999  48.594845  39518900\n",
       "2016-01-07  52.700001  53.490002  52.070000  52.169998  46.904587  56564900\n",
       "2016-01-08  52.369999  53.279999  52.150002  52.330002  47.048447  48754000"
      ]
     },
     "execution_count": 2,
     "metadata": {},
     "output_type": "execute_result"
    }
   ],
   "source": [
    "stock_data.head()"
   ]
  },
  {
   "cell_type": "code",
   "execution_count": 3,
   "id": "c3d3b836",
   "metadata": {},
   "outputs": [
    {
     "data": {
      "image/png": "[encoded data removed]",
      "text/plain": [
       "<Figure size 432x288 with 1 Axes>"
      ]
     },
     "metadata": {
      "needs_background": "light"
     },
     "output_type": "display_data"
    }
   ],
   "source": [
    "stock_data['Returns'] = stock_data['Adj Close'].pct_change()\n",
    "stock_data['Returns'].plot()\n",
    "plt.show()"
   ]
  },
  {
   "cell_type": "code",
   "execution_count": 4,
   "id": "5ee9b8c5",
   "metadata": {},
   "outputs": [
    {
     "data": {
      "image/png": "[encoded data removed]",
      "text/plain": [
       "<Figure size 432x288 with 1 Axes>"
      ]
     },
     "metadata": {
      "needs_background": "light"
     },
     "output_type": "display_data"
    }
   ],
   "source": [
    "returns_percent = stock_data['Returns'] * 100\n",
    "returns_percent.dropna(inplace=True)\n",
    "\n",
    "plt.hist(returns_percent, bins=75)\n",
    "plt.xlabel(\"Percentage of Returns\")\n",
    "plt.show()"
   ]
  },
  {
   "cell_type": "code",
   "execution_count": 5,
   "id": "a18efd8b",
   "metadata": {},
   "outputs": [
    {
     "name": "stdout",
     "output_type": "stream",
     "text": [
      "Daily Mean Returns: 0.001101571918748795\n",
      "Annual Mean Returns: 0.31975133947726064\n"
     ]
    }
   ],
   "source": [
    "daily_mean_returns = np.mean(stock_data['Returns'])\n",
    "print(\"Daily Mean Returns: \" + str(daily_mean_returns))\n",
    "\n",
    "annual_mean_returns = ((1+ daily_mean_returns)**252)-1\n",
    "print(\"Annual Mean Returns: \" + str(annual_mean_returns))"
   ]
  },
  {
   "cell_type": "code",
   "execution_count": 6,
   "id": "78fe6514",
   "metadata": {},
   "outputs": [
    {
     "name": "stdout",
     "output_type": "stream",
     "text": [
      "Daily Standard Deviation 0.017457466448772746\n",
      "Annual Standard Deviation 0.27712868846823957\n",
      "\n",
      "\n",
      "Daily Variance 0.0003047631348100261\n",
      "Annual Variance 0.07680030997212658\n"
     ]
    }
   ],
   "source": [
    "daily_std = np.std(stock_data['Returns'])\n",
    "annual_std = daily_std*np.sqrt(252)\n",
    "print(\"Daily Standard Deviation \" + str(daily_std))\n",
    "print(\"Annual Standard Deviation \" + str(annual_std ))\n",
    "\n",
    "print('\\n')\n",
    "\n",
    "daily_var= daily_std**2\n",
    "annual_var = annual_std**2\n",
    "print(\"Daily Variance \" + str(daily_var))\n",
    "print(\"Annual Variance \" + str(annual_var))"
   ]
  },
  {
   "cell_type": "code",
   "execution_count": 7,
   "id": "ad4f50db",
   "metadata": {},
   "outputs": [
    {
     "name": "stdout",
     "output_type": "stream",
     "text": [
      "Skewness: -0.04944832926218261\n"
     ]
    }
   ],
   "source": [
    "returns = stock_data['Returns'].dropna()\n",
    "skewness = skew(returns)\n",
    "print(\"Skewness: \" + str(skewness))"
   ]
  },
  {
   "cell_type": "code",
   "execution_count": 8,
   "id": "e63d5b90",
   "metadata": {},
   "outputs": [
    {
     "name": "stdout",
     "output_type": "stream",
     "text": [
      "Excess kurtosis: 8.118804082630554\n",
      "Real kurtosis: 11.118804082630554\n"
     ]
    }
   ],
   "source": [
    "excess_kurtosis = kurtosis(returns)\n",
    "print(\"Excess kurtosis: \" + str(excess_kurtosis))\n",
    "\n",
    "real_kurtosis = excess_kurtosis + 3\n",
    "print(\"Real kurtosis: \" + str(real_kurtosis))"
   ]
  },
  {
   "cell_type": "code",
   "execution_count": null,
   "id": "74ba2453",
   "metadata": {},
   "outputs": [],
   "source": []
  }
 ],
 "metadata": {
  "kernelspec": {
   "display_name": "Python 3.7.7 ('dev')",
   "language": "python",
   "name": "python3"
  },
  "language_info": {
   "codemirror_mode": {
    "name": "ipython",
    "version": 3
   },
   "file_extension": ".py",
   "mimetype": "text/x-python",
   "name": "python",
   "nbconvert_exporter": "python",
   "pygments_lexer": "ipython3",
   "version": "3.7.7"
  },
  "vscode": {
   "interpreter": {
    "hash": "4396f389b93e7269692bd3bea4c62813bbe379469bde939b058805f538feec11"
   }
  }
 },
 "nbformat": 4,
 "nbformat_minor": 5
}
